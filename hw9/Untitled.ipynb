{
 "cells": [
  {
   "cell_type": "code",
   "execution_count": 2,
   "metadata": {},
   "outputs": [],
   "source": [
    "import cv2\n",
    "import numpy as np"
   ]
  },
  {
   "cell_type": "code",
   "execution_count": 3,
   "metadata": {},
   "outputs": [],
   "source": [
    "image = cv2.imread(\"new1.jpg\")\n",
    "# image = cv2.flip(image,-1)\n",
    "cv2.imshow(\"image\",image)\n",
    "\n",
    "cv2.waitKey()\n",
    "cv2.destroyAllWindows()"
   ]
  },
  {
   "cell_type": "code",
   "execution_count": 10,
   "metadata": {},
   "outputs": [],
   "source": [
    "image = cv2.imread(\"image.jpg\")\n",
    "cv2.imshow(\"image\",image)\n",
    "#### For RED colo\n",
    "# lower_red= np.array ([0,130,82])\n",
    "# upper_red = np.array([5,212,245])\n",
    "\n",
    "\n",
    "##### For Blue color\n",
    "# lower_red= np.array ([40,150,90])\n",
    "# upper_red = np.array([120,255,255])#or 130,150,200\n",
    "#### For Green Color\n",
    "lower_red = np.array([55,124,31])\n",
    "upper_red = np.array([98,255,255])\n",
    "hsv = cv2.cvtColor(image, cv2.COLOR_BGR2HSV)\n",
    "mask= cv2.inRange(hsv,lower_red,upper_red)\n",
    "result=cv2.bitwise_and(hsv, hsv, mask=mask)\n",
    "blur = cv2.GaussianBlur(mask,(9,9),0)\n",
    "cv2.imshow(\"mask\",mask)\n",
    "cv2.imshow(\"result\",result)\n",
    "#cv2.imwrite('hsv.jpg',hsv)\n",
    "#cv2.imwrite('result.jpg',result)\n",
    "cv2.drawMarker(image,(320,240),1 )\n",
    "ret,thresh = cv2.threshold(blur,127,255,0)\n",
    "im2, contours, hierarchy = cv2.findContours(thresh,cv2.RETR_TREE,cv2.CHAIN_APPROX_SIMPLE)\n",
    "cv2.drawContours(image, contours, -1, (0,0,255), 3)\n",
    "cv2.imshow(\"image\",image)\n",
    "cv2.waitKey()\n",
    "cv2.destroyAllWindows()"
   ]
  }
 ],
 "metadata": {
  "kernelspec": {
   "display_name": "Python 3",
   "language": "python",
   "name": "python3"
  },
  "language_info": {
   "codemirror_mode": {
    "name": "ipython",
    "version": 3
   },
   "file_extension": ".py",
   "mimetype": "text/x-python",
   "name": "python",
   "nbconvert_exporter": "python",
   "pygments_lexer": "ipython3",
   "version": "3.5.2"
  }
 },
 "nbformat": 4,
 "nbformat_minor": 2
}
