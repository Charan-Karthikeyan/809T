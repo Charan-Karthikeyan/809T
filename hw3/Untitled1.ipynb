{
 "cells": [
  {
   "cell_type": "code",
   "execution_count": 1,
   "metadata": {},
   "outputs": [],
   "source": [
    "# import matplotlib.pyplot as plt\n",
    "import numpy as np\n"
   ]
  },
  {
   "cell_type": "code",
   "execution_count": 2,
   "metadata": {},
   "outputs": [],
   "source": [
    "inps = []\n",
    "def inp_check(inp):\n",
    "    stat = False\n",
    "    if inp.lower() == 'a':\n",
    "        stat = True\n",
    "    elif inp.lower() == 'd':\n",
    "        stat = True\n",
    "    elif inp.lower() == 'w':\n",
    "        stat = True\n",
    "    elif inp.lower() == 's':\n",
    "        stat = True\n",
    "    else:\n",
    "        print(\"Wrong Values as input\")\n",
    "    return stat\n",
    "        \n",
    "def get_input():\n",
    "    direction = input(\"Enter the direction to Move:\")\n",
    "    out = inp_check(direction)\n",
    "    if out != True:\n",
    "        print('wrong input')\n",
    "    else:\n",
    "        distance = float(input(\"Enter the distance\"))\n",
    "        inps.append((distance,direction))\n",
    "        #print(inps)\n",
    "        resume  = input(\"Do you want to continue?\")\n",
    "        if resume == 'y':\n",
    "            get_input()\n",
    "        else:\n",
    "            print(\"Starting execution\")\n",
    "    return inps\n",
    "            "
   ]
  },
  {
   "cell_type": "code",
   "execution_count": 3,
   "metadata": {},
   "outputs": [
    {
     "name": "stdout",
     "output_type": "stream",
     "text": [
      "Enter the direction to Move:w\n",
      "Enter the distance0.5\n",
      "Do you want to continue?y\n",
      "Enter the direction to Move:a\n",
      "Enter the distance90\n",
      "Do you want to continue?y\n",
      "Enter the direction to Move:d\n",
      "Enter the distance90\n",
      "Do you want to continue?n\n",
      "Starting execution\n",
      "[(0.5, 'w'), (90.0, 'a'), (90.0, 'd')]\n"
     ]
    }
   ],
   "source": [
    "coms = get_input()\n",
    "print(coms)"
   ]
  },
  {
   "cell_type": "code",
   "execution_count": 5,
   "metadata": {},
   "outputs": [
    {
     "name": "stdout",
     "output_type": "stream",
     "text": [
      "0.5\n"
     ]
    }
   ],
   "source": [
    "print(coms[0][0])"
   ]
  }
 ],
 "metadata": {
  "kernelspec": {
   "display_name": "Python 3",
   "language": "python",
   "name": "python3"
  },
  "language_info": {
   "codemirror_mode": {
    "name": "ipython",
    "version": 3
   },
   "file_extension": ".py",
   "mimetype": "text/x-python",
   "name": "python",
   "nbconvert_exporter": "python",
   "pygments_lexer": "ipython3",
   "version": "3.5.2"
  }
 },
 "nbformat": 4,
 "nbformat_minor": 2
}
